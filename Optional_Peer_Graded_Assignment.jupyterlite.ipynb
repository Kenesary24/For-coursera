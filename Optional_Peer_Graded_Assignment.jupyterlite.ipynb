{
  "metadata": {
    "kernelspec": {
      "name": "python",
      "display_name": "Python (Pyodide)",
      "language": "python"
    },
    "language_info": {
      "codemirror_mode": {
        "name": "python",
        "version": 3
      },
      "file_extension": ".py",
      "mimetype": "text/x-python",
      "name": "python",
      "nbconvert_exporter": "python",
      "pygments_lexer": "ipython3",
      "version": "3.8"
    }
  },
  "nbformat_minor": 4,
  "nbformat": 4,
  "cells": [
    {
      "cell_type": "markdown",
      "source": "<p style=\"text-align:center\">\n    <a href=\"https://skills.network/?utm_medium=Exinfluencer&utm_source=Exinfluencer&utm_content=000026UJ&utm_term=10006555&utm_id=NA-SkillsNetwork-Channel-SkillsNetworkCoursesIBMDeveloperSkillsNetworkST0151ENSkillsNetwork20531532-2022-01-01\" target=\"_blank\">\n    <img src=\"https://cf-courses-data.s3.us.cloud-object-storage.appdomain.cloud/assets/logos/SN_web_lightmode.png\" width=\"200\" alt=\"Skills Network Logo\"  />\n    </a>\n</p>\n\n",
      "metadata": {}
    },
    {
      "cell_type": "markdown",
      "source": "#### Import the required libraries we need for the lab.\n",
      "metadata": {}
    },
    {
      "cell_type": "code",
      "source": "import piplite\nawait piplite.install(['numpy'],['pandas'])\nawait piplite.install(['seaborn'])",
      "metadata": {
        "trusted": true
      },
      "outputs": [],
      "execution_count": 3
    },
    {
      "cell_type": "code",
      "source": "import pandas as pd\nimport pandas as pd\nimport seaborn as sns\nimport matplotlib.pyplot as pyplot\nimport scipy.stats\nimport statsmodels.api as sm\nfrom statsmodels.formula.api import ols",
      "metadata": {
        "trusted": true
      },
      "outputs": [
        {
          "name": "stderr",
          "text": "<ipython-input-4-b3fdaf15785b>:1: DeprecationWarning: \nPyarrow will become a required dependency of pandas in the next major release of pandas (pandas 3.0),\n(to allow more performant data types, such as the Arrow string type, and better interoperability with other libraries)\nbut was not found to be installed on your system.\nIf this would cause problems for you,\nplease provide us feedback at https://github.com/pandas-dev/pandas/issues/54466\n        \n  import pandas as pd\n",
          "output_type": "stream"
        }
      ],
      "execution_count": 4
    },
    {
      "cell_type": "markdown",
      "source": "#### Read the dataset in the csv file from the URL\n",
      "metadata": {}
    },
    {
      "cell_type": "code",
      "source": "from js import fetch\nimport io\n\nURL = 'https://cf-courses-data.s3.us.cloud-object-storage.appdomain.cloud/IBMDeveloperSkillsNetwork-ST0151EN-SkillsNetwork/labs/boston_housing.csv'\nresp = await fetch(URL)\nboston_url = io.BytesIO((await resp.arrayBuffer()).to_py())",
      "metadata": {
        "trusted": true
      },
      "outputs": [],
      "execution_count": 5
    },
    {
      "cell_type": "code",
      "source": "boston_df=pd.read_csv(boston_url)",
      "metadata": {
        "trusted": true
      },
      "outputs": [],
      "execution_count": 6
    },
    {
      "cell_type": "markdown",
      "source": "#### Add your code below following the instructions given in the course to complete the peer graded assignment\n",
      "metadata": {}
    },
    {
      "cell_type": "code",
      "source": "import pandas as pd\nimport numpy as np\nfrom scipy import stats\nimport statsmodels.api as sm\nimport statsmodels.formula.api as smf\nimport seaborn as sns\nimport matplotlib.pyplot as plt\nfrom js import fetch\nimport io\n\nURL = 'https://cf-courses-data.s3.us.cloud-object-storage.appdomain.cloud/IBMDeveloperSkillsNetwork-ST0151EN-SkillsNetwork/labs/boston_housing.csv'\nresp = await fetch(URL)\nboston_url = io.BytesIO((await resp.arrayBuffer()).to_py())\nboston_df=pd.read_csv(boston_url)\n\n# 1. Т-тест для независимых выборок (Charles River и MEDV)\n# Разделим данные на две группы: участки, ограниченные рекой (CHAS = 1) и не ограниченные рекой (CHAS = 0)\ngroup1 = boston_df[boston_df['CHAS'] == 1]['MEDV']\ngroup2 = boston_df[boston_df['CHAS'] == 0]['MEDV']\n\n# Тест на различие в медианной стоимости домов\nt_stat, p_value = stats.ttest_ind(group1, group2)\n\nprint(f\"T-test for Charles River: t-statistic = {t_stat}, p-value = {p_value}\")\nif p_value < 0.05:\n    print(\"Есть значимая разница в медианной стоимости домов между участками, ограниченными рекой и не ограниченными.\")\nelse:\n    print(\"Нет значимой разницы в медианной стоимости домов между участками, ограниченными рекой и не ограниченными.\")\n\n# 2. ANOVA для различий в MEDV по категориям AGE\n# Создадим категории для переменной AGE\nage_bins = [0, 35, 70, np.inf]\nage_labels = ['35 лет и моложе', '35-70 лет', '70 лет и старше']\nboston_df['AGE_category'] = pd.cut(boston_df['AGE'], bins=age_bins, labels=age_labels)\n\n# Выполним ANOVA для MEDV по категориям AGE\nanova_results = stats.f_oneway(boston_df[boston_df['AGE_category'] == '35 лет и моложе']['MEDV'],\n                               boston_df[boston_df['AGE_category'] == '35-70 лет']['MEDV'],\n                               boston_df[boston_df['AGE_category'] == '70 лет и старше']['MEDV'])\n\nprint(f\"ANOVA for MEDV by AGE category: F-statistic = {anova_results.statistic}, p-value = {anova_results.pvalue}\")\nif anova_results.pvalue < 0.05:\n    print(\"Есть значимая разница в медианной стоимости домов для разных категорий возраста домов.\")\nelse:\n    print(\"Нет значимой разницы в медианной стоимости домов для разных категорий возраста домов.\")\n\n# 3. Корреляция Пирсона для NOX и INDUS\ncorrelation, p_value_corr = stats.pearsonr(boston_df['NOX'], boston_df['INDUS'])\n\nprint(f\"Pearson correlation between NOX and INDUS: correlation = {correlation}, p-value = {p_value_corr}\")\nif p_value_corr < 0.05:\n    print(\"Есть значимая корреляция между концентрацией оксида азота и долей акров земли, занятых неторговыми предприятиями.\")\nelse:\n    print(\"Нет значимой корреляции между концентрацией оксида азота и долей акров земли, занятых неторговыми предприятиями.\")\n\n# 4. Регрессионный анализ (DIS -> MEDV)\n# Создадим линейную модель\nX = sm.add_constant(boston_df['DIS'])  # Добавляем константу для перехвата\ny = boston_df['MEDV']\nmodel = sm.OLS(y, X).fit()\n\nprint(f\"Regression analysis (DIS -> MEDV):\")\nprint(model.summary())\n\n# Вывод результатов\nif model.pvalues[1] < 0.05:\n    print(\"Расстояние до пяти центров занятости оказывает значительное влияние на медианную стоимость домов.\")\nelse:\n    print(\"Расстояние до пяти центров занятости не оказывает значительного влияния на медианную стоимость домов.\")\n",
      "metadata": {
        "trusted": true
      },
      "outputs": [
        {
          "name": "stdout",
          "text": "T-test for Charles River: t-statistic = 3.996437466090509, p-value = 7.390623170519905e-05\nЕсть значимая разница в медианной стоимости домов между участками, ограниченными рекой и не ограниченными.\nANOVA for MEDV by AGE category: F-statistic = 36.40764999196599, p-value = 1.7105011022702984e-15\nЕсть значимая разница в медианной стоимости домов для разных категорий возраста домов.\nPearson correlation between NOX and INDUS: correlation = 0.7636514469209192, p-value = 7.913361061210442e-98\nЕсть значимая корреляция между концентрацией оксида азота и долей акров земли, занятых неторговыми предприятиями.\nRegression analysis (DIS -> MEDV):\n                            OLS Regression Results                            \n==============================================================================\nDep. Variable:                   MEDV   R-squared:                       0.062\nModel:                            OLS   Adj. R-squared:                  0.061\nMethod:                 Least Squares   F-statistic:                     33.58\nDate:                Tue, 04 Feb 2025   Prob (F-statistic):           1.21e-08\nTime:                        05:27:20   Log-Likelihood:                -1823.9\nNo. Observations:                 506   AIC:                             3652.\nDf Residuals:                     504   BIC:                             3660.\nDf Model:                           1                                         \nCovariance Type:            nonrobust                                         \n==============================================================================\n                 coef    std err          t      P>|t|      [0.025      0.975]\n------------------------------------------------------------------------------\nconst         18.3901      0.817     22.499      0.000      16.784      19.996\nDIS            1.0916      0.188      5.795      0.000       0.722       1.462\n==============================================================================\nOmnibus:                      139.779   Durbin-Watson:                   0.570\nProb(Omnibus):                  0.000   Jarque-Bera (JB):              305.104\nSkew:                           1.466   Prob(JB):                     5.59e-67\nKurtosis:                       5.424   Cond. No.                         9.32\n==============================================================================\n\nNotes:\n[1] Standard Errors assume that the covariance matrix of the errors is correctly specified.\n",
          "output_type": "stream"
        },
        {
          "name": "stderr",
          "text": "<ipython-input-9-7f7fe025f281>:66: FutureWarning: Series.__getitem__ treating keys as positions is deprecated. In a future version, integer keys will always be treated as labels (consistent with DataFrame behavior). To access a value by position, use `ser.iloc[pos]`\n  if model.pvalues[1] < 0.05:\n",
          "output_type": "stream"
        },
        {
          "name": "stdout",
          "text": "Расстояние до пяти центров занятости оказывает значительное влияние на медианную стоимость домов.\n",
          "output_type": "stream"
        }
      ],
      "execution_count": 9
    },
    {
      "cell_type": "code",
      "source": "",
      "metadata": {
        "trusted": true
      },
      "outputs": [],
      "execution_count": null
    }
  ]
}