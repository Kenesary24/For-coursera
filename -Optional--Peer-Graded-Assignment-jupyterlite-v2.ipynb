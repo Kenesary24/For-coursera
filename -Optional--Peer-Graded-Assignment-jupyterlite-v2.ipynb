import pandas as pd
import numpy as np
from scipy import stats
import statsmodels.api as sm
import statsmodels.formula.api as smf
import seaborn as sns
import matplotlib.pyplot as plt
df = pd.read_csv("path_to_data.csv")

# 1. �-���� ��� ����������� ������� (Charles River � MEDV)

group1 = df[df['CHAS'] == 1]['MEDV']
group2 = df[df['CHAS'] == 0]['MEDV']

t_stat, p_value = stats.ttest_ind(group1, group2)

print(f"T-test for Charles River: t-statistic = {t_stat}, p-value = {p_value}")
if p_value < 0.05:
    print("���� �������� ������� � ��������� ��������� ����� ����� ���������, ������������� ����� � �� �������������.")
else:
    print("��� �������� ������� � ��������� ��������� ����� ����� ���������, ������������� ����� � �� �������������.")


age_bins = [0, 35, 70, np.inf]
age_labels = ['35 ��� � ������', '35-70 ���', '70 ��� � ������']
df['AGE_category'] = pd.cut(df['AGE'], bins=age_bins, labels=age_labels)

anova_results = stats.f_oneway(df[df['AGE_category'] == '35 ��� � ������']['MEDV'],
                               df[df['AGE_category'] == '35-70 ���']['MEDV'],
                               df[df['AGE_category'] == '70 ��� � ������']['MEDV'])

print(f"ANOVA for MEDV by AGE category: F-statistic = {anova_results.statistic}, p-value = {anova_results.pvalue}")
if anova_results.pvalue < 0.05:
    print("���� �������� ������� � ��������� ��������� ����� ��� ������ ��������� �������� �����.")
else:
    print("��� �������� ������� � ��������� ��������� ����� ��� ������ ��������� �������� �����.")

correlation, p_value_corr = stats.pearsonr(df['NOX'], df['INDUS'])

print(f"Pearson correlation between NOX and INDUS: correlation = {correlation}, p-value = {p_value_corr}")
if p_value_corr < 0.05:
    print("���� �������� ���������� ����� ������������� ������ ����� � ����� ����� �����, ������� ����������� �������������.")
else:
    print("��� �������� ���������� ����� ������������� ������ ����� � ����� ����� �����, ������� ����������� �������������.")

X = sm.add_constant(df['DIS']) 
y = df['MEDV']
model = sm.OLS(y, X).fit()

print(f"Regression analysis (DIS -> MEDV):")
print(model.summary())

if model.pvalues[1] < 0.05:
    print("���������� �� ���� ������� ��������� ��������� ������������ ������� �� ��������� ��������� �����.")
else:
    print("���������� �� ���� ������� ��������� �� ��������� ������������� ������� �� ��������� ��������� �����.")